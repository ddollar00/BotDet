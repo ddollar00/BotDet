{
 "cells": [
  {
   "cell_type": "code",
   "execution_count": 3,
   "id": "23425c8e",
   "metadata": {},
   "outputs": [
    {
     "name": "stdout",
     "output_type": "stream",
     "text": [
      "https://scontent-atl3-1.cdninstagram.com/v/t51.2885-19/334844346_672043391416102_183500895920340597_n.jpg?stp=dst-jpg_s320x320&_nc_ht=scontent-atl3-1.cdninstagram.com&_nc_cat=110&_nc_ohc=0NBIvVXfw_sAX8Nr7ma&edm=AOQ1c0wBAAAA&ccb=7-5&oh=00_AfBP11Eau8YvWvKKOABxSWOyYwJOc2EYAWz82KA0LmGupA&oe=64209783&_nc_sid=8fd12b\n"
     ]
    }
   ],
   "source": [
    "from datetime import datetime\n",
    "from itertools import dropwhile, takewhile\n",
    "import csv\n",
    "import json\n",
    "import instaloader\n",
    "import pandas as pd\n",
    "import csv\n",
    "bot = instaloader.Instaloader()\n",
    "#loading usernames count(8) at a time to pull profile information\n",
    "users=[\"mk.raven\"]\n",
    "for username in users:\n",
    "    #adding data into csv file\n",
    "\n",
    "        #loading the profile of each user \n",
    "        profile = instaloader.Profile.from_username(bot.context, username)\n",
    "        #loading the posts of each user within the certain date points\n",
    "        posts = instaloader.Profile.from_username(bot.context, username).get_posts()\n",
    "        SINCE = datetime(2022,9,3)\n",
    "        UNTIL = datetime(2022,10,13)\n",
    "     \n",
    "        print(profile.get_profile_pic_url())\n",
    "        \n",
    "    #import instaloader\n",
    "#import pandas as pd\n",
    "#L = instaloader.Instaloader()\n",
    "\n",
    "#users=[\"mk.raven\"]\n",
    "#username = users\n",
    "#for username in users:\n",
    "# Loading a profile from an Instagram handle\n",
    "    #with open(\"Instagram.txt\", \"a\")as f:\n",
    "    #    profile = instaloader.Profile.from_username(L.context, username)\n",
    "    #    print(\"Username: \", profile.username, file =f)\n",
    "    #    print(\"User ID: \", profile.userid,file =f )\n",
    "    #    print(\"Number of Posts: \", profile.mediacount,file =f)\n",
    "    #    print(\"Followers Count: \", profile.followers,file =f)\n",
    "    #    print(\"Following Count: \", profile.followees,file =f)\n",
    "    #    print(\"Bio: \", profile.biography,file =f)\n",
    "    #    print(\"External URL: \", profile.external_url,file =f)\n",
    "    #    print(\"Verified: \",profile.is_verified, file = f)\n",
    "    #    print(\"Profile Pic \",profile.get_profile_pic_url(), file = f)\n",
    "    \n"
   ]
  },
  {
   "cell_type": "code",
   "execution_count": null,
   "id": "e1466cf5",
   "metadata": {},
   "outputs": [],
   "source": []
  }
 ],
 "metadata": {
  "kernelspec": {
   "display_name": "Python 3 (ipykernel)",
   "language": "python",
   "name": "python3"
  },
  "language_info": {
   "codemirror_mode": {
    "name": "ipython",
    "version": 3
   },
   "file_extension": ".py",
   "mimetype": "text/x-python",
   "name": "python",
   "nbconvert_exporter": "python",
   "pygments_lexer": "ipython3",
   "version": "3.8.10"
  }
 },
 "nbformat": 4,
 "nbformat_minor": 5
}
