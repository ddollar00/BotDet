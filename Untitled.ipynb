{
 "cells": [
  {
   "cell_type": "code",
   "execution_count": null,
   "id": "23425c8e",
   "metadata": {},
   "outputs": [],
   "source": [
    "import pandas as pd\n",
    "import matplotlib.pyplot as plt\n",
    "import matplotlib as mpl\n",
    "import seaborn as sns\n",
    "import warnings\n",
    "warnings.filterwarnings(\"ignore\")\n",
    "%matplotlib inline\n"
   ]
  },
  {
   "cell_type": "code",
   "execution_count": null,
   "id": "e1466cf5",
   "metadata": {},
   "outputs": [],
   "source": [
    "filepath = '/Users/ravendenise/Desktop/BotDet/'\n",
    "file= open('userig2.csv', mode='r', encoding='utf-8', errors='ignore')\n",
    "\n",
    "training_data = pd.read_csv(file)\n",
    "\n",
    "bag_of_words_bot = r'cash|help|sugar daddy|hacked|follow me|money|essay|forget|paypal|logo|nft|crypto|assignment|locked|sex|play|$|' \\\n",
    "                  \n",
    "                  \n",
    "            #na =false sets nan values to false\n",
    "\n",
    "training_data['Username'] = training_data['Username'].str.contains(bag_of_words_bot, case=False, na=False)\n",
    "training_data['Bio'] = training_data['Bio'].str.contains(bag_of_words_bot, case=False, na=False)"
   ]
  }
 ],
 "metadata": {
  "kernelspec": {
   "display_name": "Python 3 (ipykernel)",
   "language": "python",
   "name": "python3"
  }
 },
 "nbformat": 4,
 "nbformat_minor": 5
}
