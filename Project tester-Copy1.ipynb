{
 "cells": [
  {
   "cell_type": "code",
   "execution_count": 6,
   "id": "b77e8459",
   "metadata": {},
   "outputs": [
    {
     "name": "stdout",
     "output_type": "stream",
     "text": [
      "Requirement already satisfied: instaloader in /home/damion/.local/lib/python3.8/site-packages (4.9.3)\n",
      "Requirement already satisfied: requests>=2.4 in /home/damion/.local/lib/python3.8/site-packages (from instaloader) (2.28.1)\n",
      "Requirement already satisfied: urllib3<1.27,>=1.21.1 in /usr/lib/python3/dist-packages (from requests>=2.4->instaloader) (1.25.8)\n",
      "Requirement already satisfied: idna<4,>=2.5 in /usr/lib/python3/dist-packages (from requests>=2.4->instaloader) (2.8)\n",
      "Requirement already satisfied: charset-normalizer<3,>=2 in /home/damion/.local/lib/python3.8/site-packages (from requests>=2.4->instaloader) (2.1.1)\n",
      "Requirement already satisfied: certifi>=2017.4.17 in /usr/lib/python3/dist-packages (from requests>=2.4->instaloader) (2019.11.28)\n",
      "Note: you may need to restart the kernel to use updated packages.\n"
     ]
    }
   ],
   "source": []
  },
  {
   "cell_type": "code",
   "execution_count": null,
   "id": "c515adc6",
   "metadata": {},
   "outputs": [],
   "source": [
    "from datetime import datetime\n",
    "from itertools import dropwhile, takewhile\n",
    "import csv\n",
    "import pandas as pd\n",
    "import instaloader"
   ]
  },
  {
   "cell_type": "code",
   "execution_count": null,
   "id": "d097e131",
   "metadata": {},
   "outputs": [],
   "source": [
    "import instaloader\n",
    "\n",
    "       "
   ]
  },
  {
   "cell_type": "code",
   "execution_count": null,
   "id": "1d7743e5",
   "metadata": {},
   "outputs": [],
   "source": [
    "\n",
    "       "
   ]
  },
  {
   "cell_type": "code",
   "execution_count": null,
   "id": "006db0f3",
   "metadata": {},
   "outputs": [],
   "source": []
  },
  {
   "cell_type": "code",
   "execution_count": null,
   "id": "76038bb9",
   "metadata": {},
   "outputs": [],
   "source": [
    "import pandas as pd\n",
    "import csv\n",
    "bot = instaloader.Instaloader()\n",
    "users=[\"arthur_austine8\",\"creative_gxld\",\"allenjonnie897\",\"jerry_creditfx019\",\"williams__fx_01\",\"damien_paid\",\"nickimiaj\",\"issarae\"]\n",
    "for username in users:\n",
    "# Loading a profile from an Instagram handle\n",
    "    with open(\"TestingIG_data.csv\", mode = 'a', encoding='utf-8')as f:\n",
    "        profile = instaloader.Profile.from_username(bot.context, username)\n",
    "        posts = instaloader.Profile.from_username(bot.context, username).get_posts()\n",
    "        SINCE = datetime(2022,9,3)\n",
    "        UNTIL = datetime(2022,10,13)\n",
    "        p3 = \" \"\n",
    "        for post in takewhile(lambda p: p.date > SINCE, dropwhile(lambda p: p.date > UNTIL, posts)):\n",
    "              p3 += str(post.date)+\"\\n\"\n",
    "              print( ) \n",
    "        writer =csv.writer(f, delimiter =',', quoting= csv.QUOTE_MINIMAL)\n",
    "        #writer.writerow(['Username','User ID','Number of Posts','Followers Count','Following Count','Bio','External URL','Verified','Profile Pic','Real or Fake','Posts_Dates'])\n",
    "        writer.writerow([profile.username,profile.userid,profile.mediacount,profile.followers,profile.followees,profile.biography,profile.external_url,profile.is_verified,profile.get_profile_pic_url(),\"  \",p3 ])\n",
    "        "
   ]
  },
  {
   "cell_type": "code",
   "execution_count": null,
   "id": "0fa17311",
   "metadata": {},
   "outputs": [],
   "source": []
  },
  {
   "cell_type": "code",
   "execution_count": null,
   "id": "3931acc3",
   "metadata": {},
   "outputs": [],
   "source": []
  }
 ],
 "metadata": {
  "kernelspec": {
   "display_name": "Python 3 (ipykernel)",
   "language": "python",
   "name": "python3"
  },
  "language_info": {
   "codemirror_mode": {
    "name": "ipython",
    "version": 3
   },
   "file_extension": ".py",
   "mimetype": "text/x-python",
   "name": "python",
   "nbconvert_exporter": "python",
   "pygments_lexer": "ipython3",
   "version": "3.8.10"
  }
 },
 "nbformat": 4,
 "nbformat_minor": 5
}
