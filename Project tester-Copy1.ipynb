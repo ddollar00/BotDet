{
 "cells": [
  {
   "cell_type": "code",
   "execution_count": 1,
   "id": "b77e8459",
   "metadata": {},
   "outputs": [
    {
     "name": "stdout",
     "output_type": "stream",
     "text": [
      "Requirement already satisfied: instaloader in ./opt/anaconda3/lib/python3.9/site-packages (4.9.4)\n",
      "Requirement already satisfied: requests>=2.4 in ./opt/anaconda3/lib/python3.9/site-packages (from instaloader) (2.27.1)\n",
      "Requirement already satisfied: urllib3<1.27,>=1.21.1 in ./opt/anaconda3/lib/python3.9/site-packages (from requests>=2.4->instaloader) (1.26.9)\n",
      "Requirement already satisfied: charset-normalizer~=2.0.0 in ./opt/anaconda3/lib/python3.9/site-packages (from requests>=2.4->instaloader) (2.0.4)\n",
      "Requirement already satisfied: certifi>=2017.4.17 in ./opt/anaconda3/lib/python3.9/site-packages (from requests>=2.4->instaloader) (2021.10.8)\n",
      "Requirement already satisfied: idna<4,>=2.5 in ./opt/anaconda3/lib/python3.9/site-packages (from requests>=2.4->instaloader) (3.3)\n",
      "Note: you may need to restart the kernel to use updated packages.\n"
     ]
    }
   ],
   "source": [
    "pip install instaloader\n"
   ]
  },
  {
   "cell_type": "code",
   "execution_count": 2,
   "id": "c515adc6",
   "metadata": {},
   "outputs": [],
   "source": [
    "from datetime import datetime\n",
    "from itertools import dropwhile, takewhile\n",
    "import csv\n",
    "import pandas as pd"
   ]
  },
  {
   "cell_type": "code",
   "execution_count": 4,
   "id": "d097e131",
   "metadata": {},
   "outputs": [
    {
     "name": "stdout",
     "output_type": "stream",
     "text": [
      "username:nickiminaj\n",
      "Stored ID 451573056 for profile nickiminaj.\n",
      "nickiminaj/2022-08-11_22-30-19_UTC_profile_pic.jpg \n"
     ]
    }
   ],
   "source": [
    "import instaloader\n",
    "class GetInstagramProfile():\n",
    "        loader = instaloader.Instaloader()\n",
    "        username = input(\"username:\")\n",
    "        loader.download_profile(username, profile_pic_only = True)\n",
    "        profile = instaloader.Profile.from_username(loader.context,username)\n",
    "       "
   ]
  },
  {
   "cell_type": "code",
   "execution_count": null,
   "id": "1d7743e5",
   "metadata": {},
   "outputs": [],
   "source": [
    "import instaloader\n",
    "class GetInstagramProfile():\n",
    "    list_of_profile =['']\n",
    "    for username in list_of_profile:\n",
    "        loader = instaloader.Instaloader()\n",
    "        username = input(\"username:\")\n",
    "        profile =instaloader.Profile.from_username(loader.context, username)\n",
    "        loader.download_profile(username,)\n",
    "       "
   ]
  },
  {
   "cell_type": "code",
   "execution_count": 39,
   "id": "006db0f3",
   "metadata": {},
   "outputs": [],
   "source": [
    " posts = instaloader.Profile.from_username(loader.context,username).get_posts()\n",
    "        SINCE = datetime(2015,5,1)\n",
    "        UNTIL = datetime(2022,8,28)\n",
    "        for post in takewhile(lambda p: p.date > UNTIL, dropwhile(lambda p:(2015,5,1), posts)):\n",
    "            print(post.date)\n",
    "        def test_get_followees(self):\n",
    "            profile = intaloader.Profile.from_username(self.L.context, mk.raven)\n",
    "            for f in profile.get_followees():\n",
    "                print(f.username)"
   ]
  },
  {
   "cell_type": "code",
   "execution_count": 48,
   "id": "76038bb9",
   "metadata": {},
   "outputs": [
    {
     "name": "stdout",
     "output_type": "stream",
     "text": [
      " * Serving Flask app \"__main__\" (lazy loading)\n",
      " * Environment: production\n",
      "\u001b[31m   WARNING: This is a development server. Do not use it in a production deployment.\u001b[0m\n",
      "\u001b[2m   Use a production WSGI server instead.\u001b[0m\n",
      " * Debug mode: off\n"
     ]
    },
    {
     "name": "stderr",
     "output_type": "stream",
     "text": [
      " * Running on http://127.0.0.1:5000/ (Press CTRL+C to quit)\n"
     ]
    }
   ],
   "source": []
  },
  {
   "cell_type": "code",
   "execution_count": null,
   "id": "0fa17311",
   "metadata": {},
   "outputs": [],
   "source": []
  }
 ],
 "metadata": {
  "kernelspec": {
   "display_name": "Python 3 (ipykernel)",
   "language": "python",
   "name": "python3"
  },
  "language_info": {
   "codemirror_mode": {
    "name": "ipython",
    "version": 3
   },
   "file_extension": ".py",
   "mimetype": "text/x-python",
   "name": "python",
   "nbconvert_exporter": "python",
   "pygments_lexer": "ipython3",
   "version": "3.9.12"
  }
 },
 "nbformat": 4,
 "nbformat_minor": 5
}
