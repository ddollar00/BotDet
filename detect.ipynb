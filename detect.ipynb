{
 "cells": [
  {
   "cell_type": "code",
   "execution_count": 1,
   "metadata": {
    "scrolled": true
   },
   "outputs": [
    {
     "name": "stderr",
     "output_type": "stream",
     "text": [
      "Matplotlib is building the font cache; this may take a moment.\n"
     ]
    }
   ],
   "source": [
    "import pandas as pd\n",
    "import matplotlib.pyplot as plt\n",
    "import matplotlib as mpl\n",
    "import seaborn as sns\n",
    "import warnings\n",
    "warnings.filterwarnings(\"ignore\")\n",
    "%matplotlib inline"
   ]
  },
  {
   "cell_type": "code",
   "execution_count": 2,
   "metadata": {},
   "outputs": [],
   "source": [
    "\n",
    "file= 'training_data_5.csv'\n",
    "\n",
    "training_data = pd.read_csv(file)\n",
    "bots = training_data[training_data.bot==1]\n",
    "nonbots = training_data[training_data.bot==0]\n",
    "\n"
   ]
  },
  {
   "cell_type": "code",
   "execution_count": 3,
   "metadata": {},
   "outputs": [
    {
     "data": {
      "image/png": "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\n",
      "text/plain": [
       "<Figure size 720x360 with 2 Axes>"
      ]
     },
     "metadata": {
      "needs_background": "light"
     },
     "output_type": "display_data"
    }
   ],
   "source": [
    "bots.friends_count/bots.followers_count\n",
    "\n",
    "plt.figure(figsize=(10,5))\n",
    "plt.subplot(2,1,1)\n",
    "plt.title('Bots Friends vs Followers')\n",
    "sns.regplot(x=bots.friends_count, y=bots.followers_count, color='black', label='Bots')\n",
    "plt.xlim(0, 100)\n",
    "plt.ylim(0, 100)\n",
    "plt.tight_layout()\n",
    "\n",
    "plt.subplot(2,1,2)\n",
    "plt.title('NonBots Friends vs Followers')\n",
    "sns.regplot(x=nonbots.friends_count, y=nonbots.followers_count, color='red', label='NonBots')\n",
    "plt.xlim(0, 100)\n",
    "plt.ylim(0, 100)\n",
    "\n",
    "plt.tight_layout()\n",
    "plt.show()"
   ]
  },
  {
   "cell_type": "code",
<<<<<<< HEAD
   "execution_count": 21,
=======
   "execution_count": 4,
>>>>>>> fe4bf9f5e4c5504ef825a9121f36baa7a652398a
   "metadata": {},
   "outputs": [],
   "source": [
    "filepath = '/home/damion/Desktop/kaggle_data/'\n",
    "file= open('training_data_5.csv', mode='r', encoding='utf-8', errors='ignore')\n",
    "\n",
    "training_data = pd.read_csv(file)\n",
    "\n",
    "bag_of_words_bot = r'Homework|help|sugar daddy|tweet me|hacked|follow me|updates every|essay|forget|paypal|logo|nft|crypto|assignment|locked|' \\\n",
    "                  \n",
    "            #na =false sets nan values to false\n",
    "\n",
    "training_data['screen_name'] = training_data.screen_name.str.contains(bag_of_words_bot, case=False, na=False)\n",
    "\n",
    "training_data['name'] = training_data.name.str.contains(bag_of_words_bot, case=False, na=False)\n",
    "training_data['description'] = training_data.description.str.contains(bag_of_words_bot, case=False, na=False)\n",
    "training_data['status'] = training_data.status.str.contains(bag_of_words_bot, case=False, na=False)"
   ]
  },
  {
   "cell_type": "code",
<<<<<<< HEAD
   "execution_count": 22,
=======
   "execution_count": 5,
>>>>>>> fe4bf9f5e4c5504ef825a9121f36baa7a652398a
   "metadata": {},
   "outputs": [
    {
     "data": {
<<<<<<< HEAD
      "text/html": [
       "<style>#sk-container-id-6 {color: black;background-color: white;}#sk-container-id-6 pre{padding: 0;}#sk-container-id-6 div.sk-toggleable {background-color: white;}#sk-container-id-6 label.sk-toggleable__label {cursor: pointer;display: block;width: 100%;margin-bottom: 0;padding: 0.3em;box-sizing: border-box;text-align: center;}#sk-container-id-6 label.sk-toggleable__label-arrow:before {content: \"▸\";float: left;margin-right: 0.25em;color: #696969;}#sk-container-id-6 label.sk-toggleable__label-arrow:hover:before {color: black;}#sk-container-id-6 div.sk-estimator:hover label.sk-toggleable__label-arrow:before {color: black;}#sk-container-id-6 div.sk-toggleable__content {max-height: 0;max-width: 0;overflow: hidden;text-align: left;background-color: #f0f8ff;}#sk-container-id-6 div.sk-toggleable__content pre {margin: 0.2em;color: black;border-radius: 0.25em;background-color: #f0f8ff;}#sk-container-id-6 input.sk-toggleable__control:checked~div.sk-toggleable__content {max-height: 200px;max-width: 100%;overflow: auto;}#sk-container-id-6 input.sk-toggleable__control:checked~label.sk-toggleable__label-arrow:before {content: \"▾\";}#sk-container-id-6 div.sk-estimator input.sk-toggleable__control:checked~label.sk-toggleable__label {background-color: #d4ebff;}#sk-container-id-6 div.sk-label input.sk-toggleable__control:checked~label.sk-toggleable__label {background-color: #d4ebff;}#sk-container-id-6 input.sk-hidden--visually {border: 0;clip: rect(1px 1px 1px 1px);clip: rect(1px, 1px, 1px, 1px);height: 1px;margin: -1px;overflow: hidden;padding: 0;position: absolute;width: 1px;}#sk-container-id-6 div.sk-estimator {font-family: monospace;background-color: #f0f8ff;border: 1px dotted black;border-radius: 0.25em;box-sizing: border-box;margin-bottom: 0.5em;}#sk-container-id-6 div.sk-estimator:hover {background-color: #d4ebff;}#sk-container-id-6 div.sk-parallel-item::after {content: \"\";width: 100%;border-bottom: 1px solid gray;flex-grow: 1;}#sk-container-id-6 div.sk-label:hover label.sk-toggleable__label {background-color: #d4ebff;}#sk-container-id-6 div.sk-serial::before {content: \"\";position: absolute;border-left: 1px solid gray;box-sizing: border-box;top: 0;bottom: 0;left: 50%;z-index: 0;}#sk-container-id-6 div.sk-serial {display: flex;flex-direction: column;align-items: center;background-color: white;padding-right: 0.2em;padding-left: 0.2em;position: relative;}#sk-container-id-6 div.sk-item {position: relative;z-index: 1;}#sk-container-id-6 div.sk-parallel {display: flex;align-items: stretch;justify-content: center;background-color: white;position: relative;}#sk-container-id-6 div.sk-item::before, #sk-container-id-6 div.sk-parallel-item::before {content: \"\";position: absolute;border-left: 1px solid gray;box-sizing: border-box;top: 0;bottom: 0;left: 50%;z-index: -1;}#sk-container-id-6 div.sk-parallel-item {display: flex;flex-direction: column;z-index: 1;position: relative;background-color: white;}#sk-container-id-6 div.sk-parallel-item:first-child::after {align-self: flex-end;width: 50%;}#sk-container-id-6 div.sk-parallel-item:last-child::after {align-self: flex-start;width: 50%;}#sk-container-id-6 div.sk-parallel-item:only-child::after {width: 0;}#sk-container-id-6 div.sk-dashed-wrapped {border: 1px dashed gray;margin: 0 0.4em 0.5em 0.4em;box-sizing: border-box;padding-bottom: 0.4em;background-color: white;}#sk-container-id-6 div.sk-label label {font-family: monospace;font-weight: bold;display: inline-block;line-height: 1.2em;}#sk-container-id-6 div.sk-label-container {text-align: center;}#sk-container-id-6 div.sk-container {/* jupyter's `normalize.less` sets `[hidden] { display: none; }` but bootstrap.min.css set `[hidden] { display: none !important; }` so we also need the `!important` here to be able to override the default hidden behavior on the sphinx rendered scikit-learn.org. See: https://github.com/scikit-learn/scikit-learn/issues/21755 */display: inline-block !important;position: relative;}#sk-container-id-6 div.sk-text-repr-fallback {display: none;}</style><div id=\"sk-container-id-6\" class=\"sk-top-container\"><div class=\"sk-text-repr-fallback\"><pre>DecisionTreeClassifier(max_depth=5, min_samples_leaf=5, random_state=42)</pre><b>In a Jupyter environment, please rerun this cell to show the HTML representation or trust the notebook. <br />On GitHub, the HTML representation is unable to render, please try loading this page with nbviewer.org.</b></div><div class=\"sk-container\" hidden><div class=\"sk-item\"><div class=\"sk-estimator sk-toggleable\"><input class=\"sk-toggleable__control sk-hidden--visually\" id=\"sk-estimator-id-6\" type=\"checkbox\" checked><label for=\"sk-estimator-id-6\" class=\"sk-toggleable__label sk-toggleable__label-arrow\">DecisionTreeClassifier</label><div class=\"sk-toggleable__content\"><pre>DecisionTreeClassifier(max_depth=5, min_samples_leaf=5, random_state=42)</pre></div></div></div></div></div>"
      ],
=======
>>>>>>> fe4bf9f5e4c5504ef825a9121f36baa7a652398a
      "text/plain": [
       "DecisionTreeClassifier(max_depth=5, min_samples_leaf=5, random_state=42)"
      ]
     },
<<<<<<< HEAD
     "execution_count": 22,
=======
     "execution_count": 5,
>>>>>>> fe4bf9f5e4c5504ef825a9121f36baa7a652398a
     "metadata": {},
     "output_type": "execute_result"
    }
   ],
   "source": [
    "from sklearn.tree import DecisionTreeClassifier\n",
    "from sklearn.metrics import accuracy_score, roc_curve, auc\n",
    "from sklearn.model_selection import train_test_split\n",
    "\n",
    "features = ['screen_name', 'name', 'description', 'status', 'verified', 'followers_count', 'friends_count', 'statuses_count',  'bot']\n",
    "X = training_data[features].iloc[:,:-1] #iloc gives us row,all column elements except the last one\n",
    "y = training_data[features].iloc[:,-1] # iloc gives us row,only the last column element called bot\n",
    "\n",
    "X_train, X_test, y_train, y_test = train_test_split(X, y, test_size = 0.3,random_state=42)\n",
    "\n",
    "model = DecisionTreeClassifier(criterion=\"gini\", random_state=42,max_depth=5, min_samples_leaf=5)   \n",
    "model.fit(X_train,y_train)"
   ]
  },
  {
   "cell_type": "code",
<<<<<<< HEAD
   "execution_count": 23,
=======
   "execution_count": 6,
>>>>>>> fe4bf9f5e4c5504ef825a9121f36baa7a652398a
   "metadata": {},
   "outputs": [
    {
     "data": {
      "text/plain": [
       "0.8282828282828283"
      ]
     },
<<<<<<< HEAD
     "execution_count": 23,
=======
     "execution_count": 6,
>>>>>>> fe4bf9f5e4c5504ef825a9121f36baa7a652398a
     "metadata": {},
     "output_type": "execute_result"
    }
   ],
   "source": [
    "from sklearn.metrics import accuracy_score,classification_report,confusion_matrix\n",
    "\n",
    "y_predict = model.predict(X_test)\n",
    "accuracy_score(y_test,y_predict)"
   ]
  },
  {
   "cell_type": "code",
   "execution_count": null,
   "metadata": {
    "scrolled": true
   },
   "outputs": [],
   "source": []
  },
  {
   "cell_type": "code",
   "execution_count": null,
   "metadata": {},
   "outputs": [],
   "source": []
  },
  {
   "cell_type": "code",
   "execution_count": null,
   "metadata": {},
   "outputs": [],
   "source": []
  },
  {
   "cell_type": "code",
   "execution_count": null,
   "metadata": {},
   "outputs": [],
   "source": []
  },
  {
   "cell_type": "code",
   "execution_count": null,
   "metadata": {},
   "outputs": [],
   "source": []
  },
  {
   "cell_type": "code",
   "execution_count": null,
   "metadata": {
    "scrolled": true
   },
   "outputs": [],
   "source": []
  },
  {
   "cell_type": "code",
   "execution_count": null,
   "metadata": {},
   "outputs": [],
   "source": []
  },
  {
   "cell_type": "markdown",
   "metadata": {},
   "source": []
  },
  {
   "cell_type": "markdown",
   "metadata": {
    "collapsed": true
   },
   "source": []
  },
  {
   "cell_type": "code",
   "execution_count": null,
   "metadata": {
    "scrolled": true
   },
   "outputs": [],
   "source": []
  },
  {
   "cell_type": "code",
   "execution_count": null,
   "metadata": {},
   "outputs": [],
   "source": []
  },
  {
   "cell_type": "markdown",
   "metadata": {},
   "source": []
  },
  {
   "cell_type": "markdown",
   "metadata": {},
   "source": []
  },
  {
   "cell_type": "markdown",
   "metadata": {},
   "source": []
  },
  {
   "cell_type": "code",
   "execution_count": null,
   "metadata": {},
   "outputs": [],
   "source": [
    "\n"
   ]
  },
  {
   "cell_type": "markdown",
   "metadata": {},
   "source": []
  },
  {
   "cell_type": "markdown",
   "metadata": {},
   "source": []
  },
  {
   "cell_type": "code",
   "execution_count": null,
   "metadata": {},
   "outputs": [],
   "source": []
  },
  {
   "cell_type": "markdown",
   "metadata": {},
   "source": []
  },
  {
   "cell_type": "markdown",
   "metadata": {
    "collapsed": true
   },
   "source": []
  },
  {
   "cell_type": "code",
   "execution_count": null,
   "metadata": {},
   "outputs": [],
   "source": []
  },
  {
   "cell_type": "code",
   "execution_count": null,
   "metadata": {},
   "outputs": [],
   "source": []
  },
  {
   "cell_type": "markdown",
   "metadata": {},
   "source": []
  },
  {
   "cell_type": "markdown",
   "metadata": {},
   "source": []
  },
  {
   "cell_type": "code",
   "execution_count": null,
   "metadata": {},
   "outputs": [],
   "source": []
  },
  {
   "cell_type": "code",
   "execution_count": null,
   "metadata": {},
   "outputs": [],
   "source": []
  },
  {
   "cell_type": "markdown",
   "metadata": {},
   "source": []
  },
  {
   "cell_type": "code",
   "execution_count": null,
   "metadata": {},
   "outputs": [],
   "source": []
  },
  {
   "cell_type": "markdown",
   "metadata": {},
   "source": []
  },
  {
   "cell_type": "code",
   "execution_count": null,
   "metadata": {},
   "outputs": [],
   "source": []
  },
  {
   "cell_type": "markdown",
   "metadata": {},
   "source": []
  },
  {
   "cell_type": "code",
   "execution_count": null,
   "metadata": {},
   "outputs": [],
   "source": []
  },
  {
   "cell_type": "code",
   "execution_count": null,
   "metadata": {},
   "outputs": [],
   "source": []
  },
  {
   "cell_type": "code",
   "execution_count": null,
   "metadata": {},
   "outputs": [],
   "source": []
  },
  {
   "cell_type": "code",
   "execution_count": null,
   "metadata": {},
   "outputs": [],
   "source": []
  },
  {
   "cell_type": "code",
   "execution_count": null,
   "metadata": {},
   "outputs": [],
   "source": []
  },
  {
   "cell_type": "code",
   "execution_count": null,
   "metadata": {},
   "outputs": [],
   "source": []
  },
  {
   "cell_type": "code",
   "execution_count": null,
   "metadata": {},
   "outputs": [],
   "source": []
  },
  {
   "cell_type": "code",
   "execution_count": null,
   "metadata": {},
   "outputs": [],
   "source": []
  },
  {
   "cell_type": "code",
   "execution_count": null,
   "metadata": {},
   "outputs": [],
   "source": []
  },
  {
   "cell_type": "code",
   "execution_count": null,
   "metadata": {},
   "outputs": [],
   "source": []
  },
  {
   "cell_type": "code",
   "execution_count": null,
   "metadata": {},
   "outputs": [],
   "source": []
  },
  {
   "cell_type": "code",
   "execution_count": null,
   "metadata": {},
   "outputs": [],
   "source": []
  },
  {
   "cell_type": "code",
   "execution_count": null,
   "metadata": {},
   "outputs": [],
   "source": []
  },
  {
   "cell_type": "code",
   "execution_count": null,
   "metadata": {},
   "outputs": [],
   "source": []
  }
 ],
 "metadata": {
  "kernelspec": {
   "display_name": "Python 3 (ipykernel)",
   "language": "python",
   "name": "python3"
  },
  "language_info": {
   "codemirror_mode": {
    "name": "ipython",
    "version": 3
   },
   "file_extension": ".py",
   "mimetype": "text/x-python",
   "name": "python",
   "nbconvert_exporter": "python",
   "pygments_lexer": "ipython3",
   "version": "3.9.12"
  }
 },
 "nbformat": 4,
 "nbformat_minor": 2
}
